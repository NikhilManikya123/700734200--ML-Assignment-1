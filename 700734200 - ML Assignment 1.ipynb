{
 "cells": [
  {
   "cell_type": "code",
   "execution_count": 25,
   "id": "247446dd",
   "metadata": {},
   "outputs": [
    {
     "name": "stdout",
     "output_type": "stream",
     "text": [
      "Sorted list =  [19, 19, 20, 22, 24, 24, 24, 25, 25, 26]\n",
      "Max age = 26, Min age = 19\n",
      "Added list =  [19, 19, 20, 22, 24, 24, 24, 25, 25, 26, 19, 26]\n",
      "6\n",
      "Median =24\n",
      "Average age = 22.75\n",
      "Range = 7\n"
     ]
    }
   ],
   "source": [
    "#Question 1\n",
    "ages =[19, 22, 19, 24, 20, 25, 26, 24, 25, 24] ##Given a list\n",
    "ages.sort() #sorting the list\n",
    "print(\"Sorted list = \", ages)\n",
    "print (f\"Max age = {max(ages)}, Min age = {min(ages)}\") #Getting min and max age of student age list \n",
    "ages.extend([min (ages),max(ages)]) #adding min and max ages\n",
    "print (f\"Added list =  {ages}\") # List after adding\n",
    "\n",
    "x= int(len(ages)/2)\n",
    "print(x)\n",
    "if x % 2 == 0: #Knowing whether it is even or odd\n",
    " print (f\"Median ={int((ages [x-1] + ages [x]) / 2)}\")  #median of ages\n",
    "\n",
    "print (f\"Average age = {sum(ages)/len (ages)}\")  #average of ages\n",
    "\n",
    "print (f\"Range = {max(ages) - min(ages)}\") # range of the ages\n"
   ]
  },
  {
   "cell_type": "code",
   "execution_count": 28,
   "id": "0573fd60",
   "metadata": {},
   "outputs": [
    {
     "name": "stdout",
     "output_type": "stream",
     "text": [
      "length of student dictionary = 9\n",
      "<class 'list'>\n",
      "['good communication skills', 'hardworking', 'fast learner']\n",
      "student dictionary keys = dict_keys(['first_name', 'last_name', 'gender', 'age', 'martial status', 'skills', 'country', 'city', 'address'])\n",
      "student dictionary values = dict_values(['nikhil', 'manikya', 'male', '24', 'single', ['good communication skills', 'hardworking', 'fast learner'], 'india', 'hyderabad', 'warangal'])\n"
     ]
    }
   ],
   "source": [
    "#Question 2\n",
    "dog = {} #creating an empty dictionary\n",
    "dog={\"name\":\"julie\", \"color\":\"brown\", \"bread\":\"husky\", \"legs\":\"4\", \"age\": \"7\"} #adding the key values \n",
    "#Creating a student dictionary\n",
    "student= {}\n",
    "student= {\"first_name\":\"nikhil\",\"last_name\":\"manikya\", \"gender\":\"male\", \"age\":\"24\", \"martial status\":\"single\", \n",
    "          \"skills\":['good communication skills'],\"country\": \"india\", \"city\": \"hyderabad\",\n",
    "          \"address\":\"warangal\"} #adding the key values\n",
    "print(f\"length of student dictionary = {len (student)}\") # Length of student dictionary\n",
    "print(type(student['skills']))\n",
    "#values of skills and type of data\n",
    "student['skills'].extend(['hardworking', 'fast learner']) #modifying the skills\n",
    "print(student['skills'])\n",
    "\n",
    "print (f\"student dictionary keys = {student.keys()}\") #dictionary keys as list\n",
    "\n",
    "print(f\"student dictionary values = {student.values()}\") #dictionary keys as values\n"
   ]
  },
  {
   "cell_type": "code",
   "execution_count": 1,
   "id": "a3f25604",
   "metadata": {},
   "outputs": [
    {
     "name": "stdout",
     "output_type": "stream",
     "text": [
      "No of siblings = 8\n",
      "('akhil', 'nikhil', 'rinku', 'tani', 'medha', 'kshetra', 'ammulu', 'ananya')\n",
      "type:  <class 'tuple'>\n",
      "cousins: \n",
      "('akhil', 'nikhil', 'rinku', 'tani', 'medha', 'kshetra', 'ammulu', 'ananya', 'aishwarya', 'kajol')\n"
     ]
    }
   ],
   "source": [
    "#Question 3\n",
    "brothers = (\"akhil\", \"nikhil\", \"rinku\", \"tani\") #creating first tuple\n",
    "sisters = (\"medha\", \"kshetra\", \"ammulu\", \"ananya\") #creating second tuple\n",
    "siblings = brothers+sisters    \n",
    "print (f\"No of siblings = {len(siblings)}\") #counting number of siblings\n",
    "print(siblings)\n",
    "cousins = ()\n",
    "cousins += siblings + (\"aishwarya\", \"kajol\") # adding more siblings\n",
    "print(\"type: \", type (cousins))\n",
    "print(\"cousins: \") \n",
    "print(cousins)\n"
   ]
  },
  {
   "cell_type": "code",
   "execution_count": 31,
   "id": "e3d4adfc",
   "metadata": {},
   "outputs": [
    {
     "name": "stdout",
     "output_type": "stream",
     "text": [
      "Length of it companies =  7\n",
      "New_company =  {'Microsoft', 'Facebook', 'Oracle', 'Twitter', 'IBM', 'Apple', 'Amazon', 'Google'}\n",
      "Updated it_companies =  {'Amazon', 'Netflix', 'Google', 'Microsoft', 'cognizant', 'Oracle', 'Twitter', 'Walmart', 'IBM', 'Facebook', 'Apple'}\n",
      "Removed it_companies =  {'Amazon', 'Google', 'Microsoft', 'cognizant', 'Oracle', 'Twitter', 'Walmart', 'IBM', 'Facebook', 'Apple'}\n",
      "Discarded it_companies =  {'Amazon', 'Google', 'Microsoft', 'cognizant', 'Oracle', 'Twitter', 'IBM', 'Facebook', 'Apple'}\n",
      "A union B = {19, 20, 22, 24, 25, 26, 27, 28}\n",
      "A intersection B = {19, 20, 22, 24, 25, 26}\n",
      "A is subset of B = True\n",
      "A is disjoint of B = False\n",
      "{19, 20, 22, 24, 25, 26, 27, 28}\n",
      "{19, 20, 22, 24, 25, 26, 27, 28}\n",
      "Symmetric_difference = set()\n",
      "Deleting both A and B =  None None\n",
      "Length of the list age = 8\n",
      "Length of the set age = 8\n"
     ]
    }
   ],
   "source": [
    "#Question 4\n",
    "it_companies = {'Facebook', 'Google', 'Microsoft', 'Apple', 'IBM', 'Oracle', 'Amazon'}\n",
    "A = {19, 22, 24, 20, 25, 26}\n",
    "B = {19, 22, 20, 25, 26, 24, 28, 27}\n",
    "age =[22, 19, 24, 25, 26, 24, 25, 24]\n",
    "count = len(it_companies)\n",
    "print(\"Length of it companies = \", count)#Knowing Length of the companies\n",
    "it_companies.add(\"Twitter\")#adding twitter company\n",
    "print (f\"New_company = \", it_companies)\n",
    "\n",
    "\n",
    "it_companies.update(['Walmart', 'Netflix', 'cognizant']) # adding few more it companies\n",
    "print (f\"Updated it_companies = \", it_companies)\n",
    "\n",
    "it_companies.remove('Netflix')#removing one company (which raises error)\n",
    "print (f\"Removed it_companies = \", it_companies)\n",
    "\n",
    "it_companies.discard ('Walmart')#discarding which doesn't raise an error\n",
    "print (f\"Discarded it_companies = \", it_companies)\n",
    "\n",
    "print (f\"A union B = {A | B}\")\n",
    "print (f\"A intersection B = {A & B}\")\n",
    "print(f\"A is subset of B = {A.issubset(B)}\")\n",
    "print(f\"A is disjoint of B = {A.isdisjoint(B)}\")\n",
    "\n",
    "A.update(B)\n",
    "print (A)\n",
    "B.update(A)\n",
    "print(B)\n",
    "\n",
    "\n",
    "print (f\"Symmetric_difference = {A.symmetric_difference (B)}\") #symmetric difference\n",
    "A.clear()\n",
    "B.clear()\n",
    "print (f\"Deleting both A and B = \", A.clear(), B.clear()) #deleting both sets\n",
    "print (f\"Length of the list age = {len (age)}\")\n",
    "AgeSet=set (age)#converting age to set and comparing length of list and set\n",
    "print (f\"Length of the set age = {len(age)}\")\n",
    "\n"
   ]
  },
  {
   "cell_type": "code",
   "execution_count": null,
   "id": "bac3571c",
   "metadata": {},
   "outputs": [
    {
     "name": "stdout",
     "output_type": "stream",
     "text": [
      "Radius of the circle is =  30\n",
      "Area of circle:  2826.0\n",
      "Circumference of circle:  188.4\n"
     ]
    }
   ],
   "source": [
    "#Question 5\n",
    "r=30\n",
    "print (f\"Radius of the circle is = \", r) \n",
    "_area_of_circle_=3.14*(r**2)\n",
    "_circum_of_circle_=2*3.14*r #calculating area and circumference as per given radius value\n",
    "\n",
    "print (f\"Area of circle: \", _area_of_circle_)#area of circle\n",
    " \n",
    "print (f\"Circumference of circle: \", _circum_of_circle_) #circumference of circle\n",
    "radius_input = int(input(\"Enter a random Radius value = \")) \n",
    "new_area = 3.14*radius_input*radius_input\n",
    "print (f\"Area of user input radius = \", new_area) #Calculating area as per user input radius value\n"
   ]
  },
  {
   "cell_type": "code",
   "execution_count": 18,
   "id": "649e3c24",
   "metadata": {},
   "outputs": [
    {
     "name": "stdout",
     "output_type": "stream",
     "text": [
      "['I', 'am', 'a', 'teacher', 'and', 'I', 'love', 'to', 'inspire', 'and', 'teach', 'people']\n",
      "Number of unique words in the given string =  10\n"
     ]
    }
   ],
   "source": [
    "#Question 6\n",
    "sentence = \"I am a teacher and I love to inspire and teach people\" \n",
    "list=sentence.split(' ') #using whiteSpaces as the separator\n",
    "print(list)\n",
    "uniqueWords=len(set(list)) #no of unique words in the given string\n",
    "\n",
    "print (f\"Number of unique words in the given string = \", uniqueWords )\n"
   ]
  },
  {
   "cell_type": "code",
   "execution_count": 20,
   "id": "90a1ac2e",
   "metadata": {},
   "outputs": [
    {
     "name": "stdout",
     "output_type": "stream",
     "text": [
      "Name\t\tAge\t\tCountry\t\tCity\n",
      "Asabeneh\t250\t\tFinland\t\tHelsinki\n"
     ]
    }
   ],
   "source": [
    "#Question 7\n",
    "print(\"Name\\t\\tAge\\t\\tCountry\\t\\tCity\\nAsabeneh\\t250\\t\\tFinland\\t\\tHelsinki\")"
   ]
  },
  {
   "cell_type": "code",
   "execution_count": 21,
   "id": "15f756be",
   "metadata": {},
   "outputs": [
    {
     "name": "stdout",
     "output_type": "stream",
     "text": [
      "The area of a circle with radius 10 is 314 meters square.\n"
     ]
    }
   ],
   "source": [
    "#Question 8\n",
    "radius = 10\n",
    "area =3.14 * radius ** 2\n",
    "print (f\"The area of a circle with radius {radius} is {int(area)} meters square.\")\n"
   ]
  },
  {
   "cell_type": "code",
   "execution_count": 23,
   "id": "53850b8c",
   "metadata": {},
   "outputs": [
    {
     "name": "stdout",
     "output_type": "stream",
     "text": [
      "Weight in kgs =  [68.0388, 70.30676, 65.77083999999999, 67.131616]\n"
     ]
    }
   ],
   "source": [
    "#Question 9\n",
    "#List of students weight \n",
    "weigh_lbs = [150, 155, 145, 148]\n",
    "weigh_kgs = []\n",
    "#Converting the weight to kgs\n",
    "for x in weigh_lbs:\n",
    " weigh_kgs.append(x*0.453592)\n",
    "print (f\"Weight in kgs = \", weigh_kgs)\n"
   ]
  },
  {
   "cell_type": "code",
   "execution_count": null,
   "id": "d11c7b65",
   "metadata": {},
   "outputs": [],
   "source": []
  }
 ],
 "metadata": {
  "kernelspec": {
   "display_name": "Python 3 (ipykernel)",
   "language": "python",
   "name": "python3"
  },
  "language_info": {
   "codemirror_mode": {
    "name": "ipython",
    "version": 3
   },
   "file_extension": ".py",
   "mimetype": "text/x-python",
   "name": "python",
   "nbconvert_exporter": "python",
   "pygments_lexer": "ipython3",
   "version": "3.9.13"
  }
 },
 "nbformat": 4,
 "nbformat_minor": 5
}
